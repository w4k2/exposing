{
  "nbformat_minor": 0, 
  "nbformat": 4, 
  "cells": [
    {
      "execution_count": null, 
      "cell_type": "code", 
      "source": [
        "%matplotlib inline"
      ], 
      "outputs": [], 
      "metadata": {
        "collapsed": false
      }
    }, 
    {
      "source": [
        "\n# Showing Exposition of planar Exposer\n\n\nAn example plot of :class:`skltemplate.template.TemplateClassifier`\n\n"
      ], 
      "cell_type": "markdown", 
      "metadata": {}
    }, 
    {
      "execution_count": null, 
      "cell_type": "code", 
      "source": [
        "import numpy as np\nfrom numpy.testing import assert_almost_equal\nfrom sklearn.datasets import make_circles, make_moons\nfrom sklearn.model_selection import train_test_split\nfrom matplotlib import pyplot as plt\n\nfrom exposing import Exposer\n\nn_samples = 10000\nds = make_circles(noise=0.2, factor=0.5, random_state=1, n_samples=n_samples)\nds = make_moons(noise=0.3, random_state=0, n_samples=n_samples)\nX, y = ds\nX_train, X_test, y_train, y_test = \\\n    train_test_split(X, y, test_size=.4, random_state=42)\n\nestimator = Exposer(a_steps=5, grain=32)\nestimator.fit(X_train, y_train)\n\nplt.imshow(1 - estimator.rgb())\n\nplt.show()"
      ], 
      "outputs": [], 
      "metadata": {
        "collapsed": false
      }
    }
  ], 
  "metadata": {
    "kernelspec": {
      "display_name": "Python 2", 
      "name": "python2", 
      "language": "python"
    }, 
    "language_info": {
      "mimetype": "text/x-python", 
      "nbconvert_exporter": "python", 
      "name": "python", 
      "file_extension": ".py", 
      "version": "2.7.11", 
      "pygments_lexer": "ipython2", 
      "codemirror_mode": {
        "version": 2, 
        "name": "ipython"
      }
    }
  }
}