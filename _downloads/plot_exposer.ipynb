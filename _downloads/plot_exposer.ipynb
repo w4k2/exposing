{
  "nbformat_minor": 0, 
  "nbformat": 4, 
  "cells": [
    {
      "execution_count": null, 
      "cell_type": "code", 
      "source": [
        "%matplotlib inline"
      ], 
      "outputs": [], 
      "metadata": {
        "collapsed": false
      }
    }, 
    {
      "source": [
        "\n# Showing Exposition of planar Exposer\n\n\nAn example plot of :class:`skltemplate.template.TemplateClassifier`\n\n"
      ], 
      "cell_type": "markdown", 
      "metadata": {}
    }, 
    {
      "execution_count": null, 
      "cell_type": "code", 
      "source": [
        "import numpy as np\nfrom numpy.testing import assert_almost_equal\nfrom sklearn.datasets import make_moons\nfrom sklearn.model_selection import train_test_split\nfrom matplotlib import pyplot as plt\n\nimport exposing\nreload(exposing)\n\nn_samples = 10000\nds = make_moons(noise=0.3, random_state=0, n_samples=n_samples)\nX, y = ds\nX_train, X_test, y_train, y_test = \\\n    train_test_split(X, y, test_size=.4, random_state=42)\n\nestimator = exposing.Exposer(a_steps=5, grain=32)\nestimator.fit(X_train, y_train)\n\nplt.imshow(estimator.rgb())\n\nplt.show()"
      ], 
      "outputs": [], 
      "metadata": {
        "collapsed": false
      }
    }
  ], 
  "metadata": {
    "kernelspec": {
      "display_name": "Python 2", 
      "name": "python2", 
      "language": "python"
    }, 
    "language_info": {
      "mimetype": "text/x-python", 
      "nbconvert_exporter": "python", 
      "name": "python", 
      "file_extension": ".py", 
      "version": "2.7.11", 
      "pygments_lexer": "ipython2", 
      "codemirror_mode": {
        "version": 2, 
        "name": "ipython"
      }
    }
  }
}