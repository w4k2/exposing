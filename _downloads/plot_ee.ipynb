{
  "nbformat_minor": 0, 
  "nbformat": 4, 
  "cells": [
    {
      "execution_count": null, 
      "cell_type": "code", 
      "source": [
        "%matplotlib inline"
      ], 
      "outputs": [], 
      "metadata": {
        "collapsed": false
      }
    }, 
    {
      "source": [
        "\n# Showing Exposition of EE\n\n\nAn example plot of :class:`skltemplate.template.TemplateClassifier`\n\n"
      ], 
      "cell_type": "markdown", 
      "metadata": {}
    }, 
    {
      "execution_count": null, 
      "cell_type": "code", 
      "source": [
        "import numpy as np\nfrom numpy.testing import assert_almost_equal\nfrom sklearn.datasets import make_moons\nfrom sklearn.model_selection import train_test_split\nfrom matplotlib import pyplot as plt\nfrom sklearn.datasets import load_breast_cancer, load_iris\n\nimport exposing\n\nds = load_breast_cancer(return_X_y=True)\nX, y = ds\nX_train, X_test, y_train, y_test = \\\n    train_test_split(X, y, test_size=.4, random_state=42)\n\nestimator = exposing.EE(a_steps=30, random_state=1, n_base=16)\nestimator.fit(X_train, y_train)\n\nfig, ax = plt.subplots(4, 4, figsize=(10, 10))\nfor i in xrange(4):\n    for j in xrange(4):\n        index = i + j*4\n        ax[i, j].imshow(estimator.ensemble_[index].rgb())\n        ax[i, j].set_title(\"%i - %s (%.2f)\" % (\n            index,\n            estimator.subspaces_[index],\n            estimator.thetas_[index]))\n        ax[i, j].set_axis_off()\n\nplt.show()"
      ], 
      "outputs": [], 
      "metadata": {
        "collapsed": false
      }
    }
  ], 
  "metadata": {
    "kernelspec": {
      "display_name": "Python 2", 
      "name": "python2", 
      "language": "python"
    }, 
    "language_info": {
      "mimetype": "text/x-python", 
      "nbconvert_exporter": "python", 
      "name": "python", 
      "file_extension": ".py", 
      "version": "2.7.11", 
      "pygments_lexer": "ipython2", 
      "codemirror_mode": {
        "version": 2, 
        "name": "ipython"
      }
    }
  }
}