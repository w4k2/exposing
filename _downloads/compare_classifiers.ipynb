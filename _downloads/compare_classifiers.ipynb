{
  "nbformat_minor": 0, 
  "nbformat": 4, 
  "cells": [
    {
      "execution_count": null, 
      "cell_type": "code", 
      "source": [
        "%matplotlib inline"
      ], 
      "outputs": [], 
      "metadata": {
        "collapsed": false
      }
    }, 
    {
      "source": [
        "\n# Comparing classifiers on three synthetic datasets\n\n\nAn example plot of :class:`skltemplate.template.TemplateClassifier`\n\n"
      ], 
      "cell_type": "markdown", 
      "metadata": {}
    }, 
    {
      "execution_count": null, 
      "cell_type": "code", 
      "source": [
        "import numpy as np\nimport datetime\nfrom numpy.testing import assert_almost_equal\nfrom sklearn.datasets import make_circles, make_moons\nfrom sklearn.model_selection import train_test_split\nfrom matplotlib import pyplot as plt\nfrom sklearn.datasets import make_moons, make_circles, make_classification\n\nfrom exposing import Exposer\nfrom sklearn.neural_network import MLPClassifier\nfrom sklearn.neighbors import KNeighborsClassifier\nfrom sklearn.svm import SVC\nfrom sklearn.gaussian_process import GaussianProcessClassifier\nfrom sklearn.gaussian_process.kernels import RBF\nfrom sklearn.tree import DecisionTreeClassifier\nfrom sklearn.ensemble import RandomForestClassifier, AdaBoostClassifier\nfrom sklearn.naive_bayes import GaussianNB\nfrom sklearn.discriminant_analysis import QuadraticDiscriminantAnalysis\n\nn_samples = 1000\nX, y = make_classification(n_features=2, n_redundant=0, n_informative=2,\n                           random_state=1, n_clusters_per_class=1, n_samples = n_samples)\nrng = np.random.RandomState(2)\nX += 2 * rng.uniform(size=X.shape)\nlinearly_separable = (X, y)\n\ndatasets = [make_moons(noise=0.3, random_state=0, n_samples = n_samples),\n            make_circles(noise=0.2, factor=0.5, random_state=1, n_samples = n_samples),\n            linearly_separable\n            ]\n\nnames = [\"Nearest Neighbors\", \"Linear SVM\", \"RBF SVM\",\n         \"Decision Tree\", \"Random Forest\", \"AdaBoost\",\n         \"Naive Bayes\", \"QDA\", \"Exposer\"]\n\nclassifiers = [\n    KNeighborsClassifier(3),\n    SVC(kernel=\"linear\", C=0.025),\n    SVC(gamma=2, C=1),\n    DecisionTreeClassifier(max_depth=5),\n    RandomForestClassifier(max_depth=5, n_estimators=10, max_features=1),\n    AdaBoostClassifier(),\n    GaussianNB(),\n    QuadraticDiscriminantAnalysis(),\n    Exposer()]\n\nfor ds_idx, ds in enumerate(datasets):\n    scores = {}\n    times = {}\n\n    # preprocess dataset, split into training and test part\n    X, y = ds\n    #X = StandardScaler().fit_transform(X)\n    X_train, X_test, y_train, y_test = \\\n        train_test_split(X, y, test_size=.4, random_state=42)\n\n    print 'Dataset %i' % ds_idx\n    print X.shape\n\n    for name, clf in zip(names, classifiers):\n        start = datetime.datetime.now()\n        clf.fit(X_train, y_train)\n        med = datetime.datetime.now()\n        score = clf.score(X_test, y_test)\n        end = datetime.datetime.now()\n        scores.update({name: score})\n        times.update({name: ((med-start).microseconds, (end-med).microseconds)})\n\n    results = sorted(scores, key=scores.get, reverse=True)\n    for idx, name in enumerate(results):\n        print '%i - %.1f%% @ %s - %s' % (idx+1, 100 * scores[name], times[name], name)"
      ], 
      "outputs": [], 
      "metadata": {
        "collapsed": false
      }
    }
  ], 
  "metadata": {
    "kernelspec": {
      "display_name": "Python 2", 
      "name": "python2", 
      "language": "python"
    }, 
    "language_info": {
      "mimetype": "text/x-python", 
      "nbconvert_exporter": "python", 
      "name": "python", 
      "file_extension": ".py", 
      "version": "2.7.11", 
      "pygments_lexer": "ipython2", 
      "codemirror_mode": {
        "version": 2, 
        "name": "ipython"
      }
    }
  }
}