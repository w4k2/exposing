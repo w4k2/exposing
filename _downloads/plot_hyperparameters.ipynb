{
  "nbformat_minor": 0, 
  "nbformat": 4, 
  "cells": [
    {
      "execution_count": null, 
      "cell_type": "code", 
      "source": [
        "%matplotlib inline"
      ], 
      "outputs": [], 
      "metadata": {
        "collapsed": false
      }
    }, 
    {
      "source": [
        "\n# Influence of hyperparameters\n\n\nAn example plot of :class:`skltemplate.template.TemplateClassifier`\n\n"
      ], 
      "cell_type": "markdown", 
      "metadata": {}
    }, 
    {
      "execution_count": null, 
      "cell_type": "code", 
      "source": [
        "import numpy as np\nfrom numpy.testing import assert_almost_equal\nfrom sklearn.datasets import make_moons\nfrom sklearn.model_selection import train_test_split\nfrom matplotlib import pyplot as plt\n\nfrom exposing import Exposer\n\nn_samples = 10000\nds = make_moons(noise=0.3, random_state=0, n_samples=n_samples)\nX, y = ds\nX_train, X_test, y_train, y_test = \\\n    train_test_split(X, y, test_size=.4, random_state=42)\n\ngrains = [2, 4, 8, 16, 32, 64]\na_stepss = [0, 1, 2, 3, 4, 5]\n\nfig, ax = plt.subplots(len(grains), len(a_stepss), figsize=(10, 10))\nfor i, grain in enumerate(grains):\n    for j, a_steps in enumerate(a_stepss):\n        clf = Exposer(a_steps=a_steps, grain=grain)\n        clf.fit(X_train, y_train)\n        score = clf.score(X_test, y_test)\n        ax[i, j].imshow(clf.rgb())\n        ax[i, j].set_axis_off()\n        ax[i, j].set_title(\"acc = %.3f\" % score)\n\nplt.axis('off')\nplt.show()"
      ], 
      "outputs": [], 
      "metadata": {
        "collapsed": false
      }
    }
  ], 
  "metadata": {
    "kernelspec": {
      "display_name": "Python 2", 
      "name": "python2", 
      "language": "python"
    }, 
    "language_info": {
      "mimetype": "text/x-python", 
      "nbconvert_exporter": "python", 
      "name": "python", 
      "file_extension": ".py", 
      "version": "2.7.11", 
      "pygments_lexer": "ipython2", 
      "codemirror_mode": {
        "version": 2, 
        "name": "ipython"
      }
    }
  }
}